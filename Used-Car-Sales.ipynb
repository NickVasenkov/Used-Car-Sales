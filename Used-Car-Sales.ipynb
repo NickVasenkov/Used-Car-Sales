{
 "cells": [
  {
   "cell_type": "markdown",
   "id": "14b39f44",
   "metadata": {},
   "source": [
    "# Used Car Sales"
   ]
  },
  {
   "cell_type": "markdown",
   "id": "2de9f7d4",
   "metadata": {},
   "source": [
    "## Task description"
   ]
  },
  {
   "cell_type": "markdown",
   "id": "848141f4",
   "metadata": {},
   "source": [
    "The request from the sales team: \"Can you help us estimate the price we should list a car for? The team estimates are always around 30% away from the price we know the car will sell for, we really want to be within 10% of the price.\""
   ]
  },
  {
   "cell_type": "markdown",
   "id": "c1f1754d",
   "metadata": {},
   "source": [
    "## Data Validation"
   ]
  },
  {
   "cell_type": "markdown",
   "id": "928b5b3a",
   "metadata": {},
   "source": [
    "Here are the first five rows of our data:"
   ]
  },
  {
   "cell_type": "code",
   "execution_count": 33,
   "id": "0736498c",
   "metadata": {},
   "outputs": [
    {
     "data": {
      "text/html": [
       "<div>\n",
       "<style scoped>\n",
       "    .dataframe tbody tr th:only-of-type {\n",
       "        vertical-align: middle;\n",
       "    }\n",
       "\n",
       "    .dataframe tbody tr th {\n",
       "        vertical-align: top;\n",
       "    }\n",
       "\n",
       "    .dataframe thead th {\n",
       "        text-align: right;\n",
       "    }\n",
       "</style>\n",
       "<table border=\"1\" class=\"dataframe\">\n",
       "  <thead>\n",
       "    <tr style=\"text-align: right;\">\n",
       "      <th></th>\n",
       "      <th>model</th>\n",
       "      <th>year</th>\n",
       "      <th>price</th>\n",
       "      <th>transmission</th>\n",
       "      <th>mileage</th>\n",
       "      <th>fuelType</th>\n",
       "      <th>tax</th>\n",
       "      <th>mpg</th>\n",
       "      <th>engineSize</th>\n",
       "    </tr>\n",
       "  </thead>\n",
       "  <tbody>\n",
       "    <tr>\n",
       "      <th>0</th>\n",
       "      <td>GT86</td>\n",
       "      <td>2016</td>\n",
       "      <td>16000</td>\n",
       "      <td>Manual</td>\n",
       "      <td>24089</td>\n",
       "      <td>Petrol</td>\n",
       "      <td>265</td>\n",
       "      <td>36.2</td>\n",
       "      <td>2.0</td>\n",
       "    </tr>\n",
       "    <tr>\n",
       "      <th>1</th>\n",
       "      <td>GT86</td>\n",
       "      <td>2017</td>\n",
       "      <td>15995</td>\n",
       "      <td>Manual</td>\n",
       "      <td>18615</td>\n",
       "      <td>Petrol</td>\n",
       "      <td>145</td>\n",
       "      <td>36.2</td>\n",
       "      <td>2.0</td>\n",
       "    </tr>\n",
       "    <tr>\n",
       "      <th>2</th>\n",
       "      <td>GT86</td>\n",
       "      <td>2015</td>\n",
       "      <td>13998</td>\n",
       "      <td>Manual</td>\n",
       "      <td>27469</td>\n",
       "      <td>Petrol</td>\n",
       "      <td>265</td>\n",
       "      <td>36.2</td>\n",
       "      <td>2.0</td>\n",
       "    </tr>\n",
       "    <tr>\n",
       "      <th>3</th>\n",
       "      <td>GT86</td>\n",
       "      <td>2017</td>\n",
       "      <td>18998</td>\n",
       "      <td>Manual</td>\n",
       "      <td>14736</td>\n",
       "      <td>Petrol</td>\n",
       "      <td>150</td>\n",
       "      <td>36.2</td>\n",
       "      <td>2.0</td>\n",
       "    </tr>\n",
       "    <tr>\n",
       "      <th>4</th>\n",
       "      <td>GT86</td>\n",
       "      <td>2017</td>\n",
       "      <td>17498</td>\n",
       "      <td>Manual</td>\n",
       "      <td>36284</td>\n",
       "      <td>Petrol</td>\n",
       "      <td>145</td>\n",
       "      <td>36.2</td>\n",
       "      <td>2.0</td>\n",
       "    </tr>\n",
       "  </tbody>\n",
       "</table>\n",
       "</div>"
      ],
      "text/plain": [
       "   model  year  price transmission  mileage fuelType  tax   mpg  engineSize\n",
       "0   GT86  2016  16000       Manual    24089   Petrol  265  36.2         2.0\n",
       "1   GT86  2017  15995       Manual    18615   Petrol  145  36.2         2.0\n",
       "2   GT86  2015  13998       Manual    27469   Petrol  265  36.2         2.0\n",
       "3   GT86  2017  18998       Manual    14736   Petrol  150  36.2         2.0\n",
       "4   GT86  2017  17498       Manual    36284   Petrol  145  36.2         2.0"
      ]
     },
     "execution_count": 33,
     "metadata": {},
     "output_type": "execute_result"
    }
   ],
   "source": [
    "import pandas as pd\n",
    "\n",
    "data = pd.read_csv('toyota.csv')\n",
    "data.head()"
   ]
  },
  {
   "cell_type": "markdown",
   "id": "8645b2b3",
   "metadata": {},
   "source": [
    "We were provided with the following description of the dataset:\n",
    "\n",
    "**model** Character, the model of the car, 18 possible values\n",
    "\n",
    "**year** Numeric, year of registration from 1998 to 2020\n",
    "\n",
    "**price** Numeric, listed value of the car in GBP\n",
    "\n",
    "**transmission** Character, one of \"Manual\", \"Automatic\", \"Semi-Auto\" or \"Other\"\n",
    "\n",
    "**mileage** Numeric, listed mileage of the car at time of sale\n",
    "\n",
    "**fuelType** Character, one of \"Petrol\", \"Hybrid\", \"Diesel\" or \"Other\"\n",
    "\n",
    "**tax** Numeric, road tax in GBP. Calculated based on CO2 emissions or\n",
    "a fixed price depending on the age of the car.\n",
    "\n",
    "**mpg** Numeric, miles per gallon as reported by manufacturer\n",
    "\n",
    "**engineSize** Numeric, listed engine size, one of 16 possible values\n",
    "\n",
    "As you can see below, data types are matching the description, and there are no missing values:"
   ]
  },
  {
   "cell_type": "code",
   "execution_count": 34,
   "id": "3fb0d748",
   "metadata": {},
   "outputs": [
    {
     "name": "stdout",
     "output_type": "stream",
     "text": [
      "<class 'pandas.core.frame.DataFrame'>\n",
      "RangeIndex: 6738 entries, 0 to 6737\n",
      "Data columns (total 9 columns):\n",
      " #   Column        Non-Null Count  Dtype  \n",
      "---  ------        --------------  -----  \n",
      " 0   model         6738 non-null   object \n",
      " 1   year          6738 non-null   int64  \n",
      " 2   price         6738 non-null   int64  \n",
      " 3   transmission  6738 non-null   object \n",
      " 4   mileage       6738 non-null   int64  \n",
      " 5   fuelType      6738 non-null   object \n",
      " 6   tax           6738 non-null   int64  \n",
      " 7   mpg           6738 non-null   float64\n",
      " 8   engineSize    6738 non-null   float64\n",
      "dtypes: float64(2), int64(4), object(3)\n",
      "memory usage: 473.9+ KB\n"
     ]
    }
   ],
   "source": [
    "data.info()"
   ]
  },
  {
   "cell_type": "markdown",
   "id": "beb83d43",
   "metadata": {},
   "source": [
    "Let's validate each column of the dataset.\n",
    "\n",
    "**model** Character, the model of the car, 18 possible values\n",
    "\n",
    "Indeed, we have 18 models:"
   ]
  },
  {
   "cell_type": "code",
   "execution_count": 35,
   "id": "03b02974",
   "metadata": {},
   "outputs": [
    {
     "name": "stdout",
     "output_type": "stream",
     "text": [
      "count       6738\n",
      "unique        18\n",
      "top        Yaris\n",
      "freq        2122\n",
      "Name: model, dtype: object\n"
     ]
    },
    {
     "data": {
      "text/plain": [
       "array([' GT86', ' Corolla', ' RAV4', ' Yaris', ' Auris', ' Aygo', ' C-HR',\n",
       "       ' Prius', ' Avensis', ' Verso', ' Hilux', ' PROACE VERSO',\n",
       "       ' Land Cruiser', ' Supra', ' Camry', ' Verso-S', ' IQ',\n",
       "       ' Urban Cruiser'], dtype=object)"
      ]
     },
     "execution_count": 35,
     "metadata": {},
     "output_type": "execute_result"
    }
   ],
   "source": [
    "print(data['model'].describe())\n",
    "data['model'].unique()"
   ]
  },
  {
   "cell_type": "markdown",
   "id": "dd11c435",
   "metadata": {},
   "source": [
    "**year** Numeric, year of registration from 1998 to 2020\n",
    "\n",
    "This is correct:"
   ]
  },
  {
   "cell_type": "code",
   "execution_count": 36,
   "id": "7ddedbfe",
   "metadata": {},
   "outputs": [
    {
     "data": {
      "text/plain": [
       "array([1998, 1999, 2000, 2001, 2002, 2003, 2004, 2005, 2006, 2007, 2008,\n",
       "       2009, 2010, 2011, 2012, 2013, 2014, 2015, 2016, 2017, 2018, 2019,\n",
       "       2020], dtype=int64)"
      ]
     },
     "execution_count": 36,
     "metadata": {},
     "output_type": "execute_result"
    }
   ],
   "source": [
    "import numpy as np\n",
    "\n",
    "np.sort(data['year'].unique())"
   ]
  },
  {
   "cell_type": "markdown",
   "id": "a393e0af",
   "metadata": {},
   "source": [
    "**price** Numeric, listed value of the car in GBP\n",
    "\n",
    "Prices are from 850 to 59,995:"
   ]
  },
  {
   "cell_type": "code",
   "execution_count": 37,
   "id": "069f5443",
   "metadata": {},
   "outputs": [
    {
     "data": {
      "text/plain": [
       "count     6738.000000\n",
       "mean     12522.391066\n",
       "std       6345.017587\n",
       "min        850.000000\n",
       "25%       8290.000000\n",
       "50%      10795.000000\n",
       "75%      14995.000000\n",
       "max      59995.000000\n",
       "Name: price, dtype: float64"
      ]
     },
     "execution_count": 37,
     "metadata": {},
     "output_type": "execute_result"
    }
   ],
   "source": [
    "data['price'].describe()"
   ]
  },
  {
   "cell_type": "markdown",
   "id": "64d4261d",
   "metadata": {},
   "source": [
    "**transmission** Character, one of \"Manual\", \"Automatic\", \"Semi-Auto\" or \"Other\"\n",
    "\n",
    "This is correct:"
   ]
  },
  {
   "cell_type": "code",
   "execution_count": 38,
   "id": "0a86ed71",
   "metadata": {},
   "outputs": [
    {
     "data": {
      "text/plain": [
       "array(['Manual', 'Automatic', 'Semi-Auto', 'Other'], dtype=object)"
      ]
     },
     "execution_count": 38,
     "metadata": {},
     "output_type": "execute_result"
    }
   ],
   "source": [
    "data['transmission'].unique()"
   ]
  },
  {
   "cell_type": "markdown",
   "id": "afe849ad",
   "metadata": {},
   "source": [
    "**mileage** Numeric, listed mileage of the car at time of sale\n",
    "\n",
    "Mileage is from 2 to 174,419:"
   ]
  },
  {
   "cell_type": "code",
   "execution_count": 39,
   "id": "0a99e553",
   "metadata": {},
   "outputs": [
    {
     "data": {
      "text/plain": [
       "count      6738.000000\n",
       "mean      22857.413921\n",
       "std       19125.464147\n",
       "min           2.000000\n",
       "25%        9446.000000\n",
       "50%       18513.000000\n",
       "75%       31063.750000\n",
       "max      174419.000000\n",
       "Name: mileage, dtype: float64"
      ]
     },
     "execution_count": 39,
     "metadata": {},
     "output_type": "execute_result"
    }
   ],
   "source": [
    "data['mileage'].describe()"
   ]
  },
  {
   "cell_type": "markdown",
   "id": "c92ebc53",
   "metadata": {},
   "source": [
    "**fuelType** Character, one of \"Petrol\", \"Hybrid\", \"Diesel\" or \"Other\"\n",
    "\n",
    "This is correct:"
   ]
  },
  {
   "cell_type": "code",
   "execution_count": 40,
   "id": "a7a3e5ee",
   "metadata": {},
   "outputs": [
    {
     "data": {
      "text/plain": [
       "array(['Petrol', 'Other', 'Hybrid', 'Diesel'], dtype=object)"
      ]
     },
     "execution_count": 40,
     "metadata": {},
     "output_type": "execute_result"
    }
   ],
   "source": [
    "data['fuelType'].unique()"
   ]
  },
  {
   "cell_type": "markdown",
   "id": "dc7b3c1e",
   "metadata": {},
   "source": [
    "**tax** Numeric, road tax in GBP. Calculated based on CO2 emissions or a fixed price depending on the age of the car.\n",
    "\n",
    "Road tax is from 0 to 565 GBP:"
   ]
  },
  {
   "cell_type": "code",
   "execution_count": 41,
   "id": "b1dec765",
   "metadata": {},
   "outputs": [
    {
     "data": {
      "text/plain": [
       "count    6738.000000\n",
       "mean       94.697240\n",
       "std        73.880776\n",
       "min         0.000000\n",
       "25%         0.000000\n",
       "50%       135.000000\n",
       "75%       145.000000\n",
       "max       565.000000\n",
       "Name: tax, dtype: float64"
      ]
     },
     "execution_count": 41,
     "metadata": {},
     "output_type": "execute_result"
    }
   ],
   "source": [
    "data['tax'].describe()"
   ]
  },
  {
   "cell_type": "markdown",
   "id": "e6027c51",
   "metadata": {},
   "source": [
    "**mpg** Numeric, miles per gallon as reported by manufacturer\n",
    "\n",
    "Miles per gallon are from 2.8 to 235:"
   ]
  },
  {
   "cell_type": "code",
   "execution_count": 42,
   "id": "f108feb7",
   "metadata": {},
   "outputs": [
    {
     "data": {
      "text/plain": [
       "count    6738.000000\n",
       "mean       63.042223\n",
       "std        15.836710\n",
       "min         2.800000\n",
       "25%        55.400000\n",
       "50%        62.800000\n",
       "75%        69.000000\n",
       "max       235.000000\n",
       "Name: mpg, dtype: float64"
      ]
     },
     "execution_count": 42,
     "metadata": {},
     "output_type": "execute_result"
    }
   ],
   "source": [
    "data['mpg'].describe()"
   ]
  },
  {
   "cell_type": "markdown",
   "id": "193e70da",
   "metadata": {},
   "source": [
    "**engineSize** Numeric, listed engine size, one of 16 possible values\n",
    "\n",
    "Indeed, we have 16 unique values:"
   ]
  },
  {
   "cell_type": "code",
   "execution_count": 43,
   "id": "27a7a188",
   "metadata": {},
   "outputs": [
    {
     "name": "stdout",
     "output_type": "stream",
     "text": [
      "Unique sizes #: 16\n"
     ]
    },
    {
     "data": {
      "text/plain": [
       "array([2. , 1.8, 1.2, 1.6, 1.4, 2.5, 2.2, 1.5, 1. , 1.3, 0. , 2.4, 3. ,\n",
       "       2.8, 4.2, 4.5])"
      ]
     },
     "execution_count": 43,
     "metadata": {},
     "output_type": "execute_result"
    }
   ],
   "source": [
    "print(\"Unique sizes #: \" + str(len(data['engineSize'].unique())))\n",
    "data['engineSize'].unique()"
   ]
  },
  {
   "cell_type": "markdown",
   "id": "a947469e",
   "metadata": {},
   "source": [
    "Hovewer, one of the unique values is zero. Let's explore which cars have engine size listed as 0:"
   ]
  },
  {
   "cell_type": "code",
   "execution_count": 44,
   "id": "e64c3efb",
   "metadata": {},
   "outputs": [
    {
     "data": {
      "text/html": [
       "<div>\n",
       "<style scoped>\n",
       "    .dataframe tbody tr th:only-of-type {\n",
       "        vertical-align: middle;\n",
       "    }\n",
       "\n",
       "    .dataframe tbody tr th {\n",
       "        vertical-align: top;\n",
       "    }\n",
       "\n",
       "    .dataframe thead th {\n",
       "        text-align: right;\n",
       "    }\n",
       "</style>\n",
       "<table border=\"1\" class=\"dataframe\">\n",
       "  <thead>\n",
       "    <tr style=\"text-align: right;\">\n",
       "      <th></th>\n",
       "      <th>model</th>\n",
       "      <th>year</th>\n",
       "      <th>price</th>\n",
       "      <th>transmission</th>\n",
       "      <th>mileage</th>\n",
       "      <th>fuelType</th>\n",
       "      <th>tax</th>\n",
       "      <th>mpg</th>\n",
       "      <th>engineSize</th>\n",
       "    </tr>\n",
       "  </thead>\n",
       "  <tbody>\n",
       "    <tr>\n",
       "      <th>2535</th>\n",
       "      <td>Yaris</td>\n",
       "      <td>2016</td>\n",
       "      <td>12300</td>\n",
       "      <td>Manual</td>\n",
       "      <td>6148</td>\n",
       "      <td>Hybrid</td>\n",
       "      <td>0</td>\n",
       "      <td>86.0</td>\n",
       "      <td>0.0</td>\n",
       "    </tr>\n",
       "    <tr>\n",
       "      <th>2545</th>\n",
       "      <td>Yaris</td>\n",
       "      <td>2016</td>\n",
       "      <td>11000</td>\n",
       "      <td>Automatic</td>\n",
       "      <td>39909</td>\n",
       "      <td>Hybrid</td>\n",
       "      <td>0</td>\n",
       "      <td>86.0</td>\n",
       "      <td>0.0</td>\n",
       "    </tr>\n",
       "    <tr>\n",
       "      <th>5126</th>\n",
       "      <td>Aygo</td>\n",
       "      <td>2019</td>\n",
       "      <td>9800</td>\n",
       "      <td>Manual</td>\n",
       "      <td>3635</td>\n",
       "      <td>Petrol</td>\n",
       "      <td>150</td>\n",
       "      <td>56.5</td>\n",
       "      <td>0.0</td>\n",
       "    </tr>\n",
       "    <tr>\n",
       "      <th>5233</th>\n",
       "      <td>Aygo</td>\n",
       "      <td>2019</td>\n",
       "      <td>8000</td>\n",
       "      <td>Manual</td>\n",
       "      <td>8531</td>\n",
       "      <td>Petrol</td>\n",
       "      <td>145</td>\n",
       "      <td>56.5</td>\n",
       "      <td>0.0</td>\n",
       "    </tr>\n",
       "    <tr>\n",
       "      <th>5257</th>\n",
       "      <td>Aygo</td>\n",
       "      <td>2019</td>\n",
       "      <td>8000</td>\n",
       "      <td>Manual</td>\n",
       "      <td>5354</td>\n",
       "      <td>Petrol</td>\n",
       "      <td>145</td>\n",
       "      <td>56.5</td>\n",
       "      <td>0.0</td>\n",
       "    </tr>\n",
       "    <tr>\n",
       "      <th>5960</th>\n",
       "      <td>C-HR</td>\n",
       "      <td>2017</td>\n",
       "      <td>14300</td>\n",
       "      <td>Manual</td>\n",
       "      <td>46571</td>\n",
       "      <td>Petrol</td>\n",
       "      <td>145</td>\n",
       "      <td>47.1</td>\n",
       "      <td>0.0</td>\n",
       "    </tr>\n",
       "  </tbody>\n",
       "</table>\n",
       "</div>"
      ],
      "text/plain": [
       "       model  year  price transmission  mileage fuelType  tax   mpg  \\\n",
       "2535   Yaris  2016  12300       Manual     6148   Hybrid    0  86.0   \n",
       "2545   Yaris  2016  11000    Automatic    39909   Hybrid    0  86.0   \n",
       "5126    Aygo  2019   9800       Manual     3635   Petrol  150  56.5   \n",
       "5233    Aygo  2019   8000       Manual     8531   Petrol  145  56.5   \n",
       "5257    Aygo  2019   8000       Manual     5354   Petrol  145  56.5   \n",
       "5960    C-HR  2017  14300       Manual    46571   Petrol  145  47.1   \n",
       "\n",
       "      engineSize  \n",
       "2535         0.0  \n",
       "2545         0.0  \n",
       "5126         0.0  \n",
       "5233         0.0  \n",
       "5257         0.0  \n",
       "5960         0.0  "
      ]
     },
     "execution_count": 44,
     "metadata": {},
     "output_type": "execute_result"
    }
   ],
   "source": [
    "data[data['engineSize'] == 0]"
   ]
  },
  {
   "cell_type": "markdown",
   "id": "bbff520c",
   "metadata": {},
   "source": [
    "Since engine size can't be zero, let's substitute zeros with the most common engine size for given model and fuel type:"
   ]
  },
  {
   "cell_type": "code",
   "execution_count": 45,
   "id": "34ed6589",
   "metadata": {},
   "outputs": [
    {
     "name": "stdout",
     "output_type": "stream",
     "text": [
      "Unique sizes #: 15\n"
     ]
    },
    {
     "data": {
      "text/plain": [
       "array([2. , 1.8, 1.2, 1.6, 1.4, 2.5, 2.2, 1.5, 1. , 1.3, 2.4, 3. , 2.8,\n",
       "       4.2, 4.5])"
      ]
     },
     "execution_count": 45,
     "metadata": {},
     "output_type": "execute_result"
    }
   ],
   "source": [
    "for index in data[data['engineSize'] == 0].index:\n",
    "    data.loc[index, 'engineSize'] = data[(data['model'] == data.loc[index, 'model']) & \\\n",
    "                    (data['fuelType'] == data.loc[index, 'fuelType'])]['engineSize'].mode().values[0]\n",
    "    \n",
    "print(\"Unique sizes #: \" + str(len(data['engineSize'].unique())))\n",
    "data['engineSize'].unique()"
   ]
  },
  {
   "cell_type": "markdown",
   "id": "99097189",
   "metadata": {},
   "source": [
    "## Exploratory Analysis"
   ]
  },
  {
   "cell_type": "markdown",
   "id": "e005cb50",
   "metadata": {},
   "source": [
    "Let's look at the distribution of prices via the boxplot. We'll set the whiscers to outline 99% of values:"
   ]
  },
  {
   "cell_type": "code",
   "execution_count": 46,
   "id": "a316528a",
   "metadata": {},
   "outputs": [
    {
     "data": {
      "image/png": "[encoded data removed]",
      "text/plain": [
       "<Figure size 640x480 with 1 Axes>"
      ]
     },
     "metadata": {},
     "output_type": "display_data"
    }
   ],
   "source": [
    "import seaborn as sns\n",
    "import matplotlib.pyplot as plt\n",
    "\n",
    "sns.boxplot(data=data, y='price', whis=[0.5,99.5])\n",
    "\n",
    "plt.show()"
   ]
  },
  {
   "cell_type": "markdown",
   "id": "c485c3ee",
   "metadata": {},
   "source": [
    "We see that 75% of the cars have price in very narrow range, and 1% of the cars have prices that are far away from that range. Let's explore if these values are worthy to be included in our model:"
   ]
  },
  {
   "cell_type": "code",
   "execution_count": 47,
   "id": "79db1a8e",
   "metadata": {},
   "outputs": [
    {
     "data": {
      "text/html": [
       "<div>\n",
       "<style scoped>\n",
       "    .dataframe tbody tr th:only-of-type {\n",
       "        vertical-align: middle;\n",
       "    }\n",
       "\n",
       "    .dataframe tbody tr th {\n",
       "        vertical-align: top;\n",
       "    }\n",
       "\n",
       "    .dataframe thead th {\n",
       "        text-align: right;\n",
       "    }\n",
       "</style>\n",
       "<table border=\"1\" class=\"dataframe\">\n",
       "  <thead>\n",
       "    <tr style=\"text-align: right;\">\n",
       "      <th></th>\n",
       "      <th>model</th>\n",
       "      <th>year</th>\n",
       "      <th>price</th>\n",
       "      <th>transmission</th>\n",
       "      <th>mileage</th>\n",
       "      <th>fuelType</th>\n",
       "      <th>tax</th>\n",
       "      <th>mpg</th>\n",
       "      <th>engineSize</th>\n",
       "    </tr>\n",
       "  </thead>\n",
       "  <tbody>\n",
       "    <tr>\n",
       "      <th>356</th>\n",
       "      <td>RAV4</td>\n",
       "      <td>2019</td>\n",
       "      <td>32995</td>\n",
       "      <td>Automatic</td>\n",
       "      <td>7017</td>\n",
       "      <td>Hybrid</td>\n",
       "      <td>135</td>\n",
       "      <td>49.6</td>\n",
       "      <td>2.5</td>\n",
       "    </tr>\n",
       "    <tr>\n",
       "      <th>381</th>\n",
       "      <td>RAV4</td>\n",
       "      <td>2019</td>\n",
       "      <td>37440</td>\n",
       "      <td>Automatic</td>\n",
       "      <td>2764</td>\n",
       "      <td>Hybrid</td>\n",
       "      <td>135</td>\n",
       "      <td>51.1</td>\n",
       "      <td>2.5</td>\n",
       "    </tr>\n",
       "    <tr>\n",
       "      <th>394</th>\n",
       "      <td>RAV4</td>\n",
       "      <td>2019</td>\n",
       "      <td>34990</td>\n",
       "      <td>Automatic</td>\n",
       "      <td>5000</td>\n",
       "      <td>Hybrid</td>\n",
       "      <td>135</td>\n",
       "      <td>49.6</td>\n",
       "      <td>2.5</td>\n",
       "    </tr>\n",
       "    <tr>\n",
       "      <th>407</th>\n",
       "      <td>RAV4</td>\n",
       "      <td>2019</td>\n",
       "      <td>34990</td>\n",
       "      <td>Automatic</td>\n",
       "      <td>5660</td>\n",
       "      <td>Hybrid</td>\n",
       "      <td>140</td>\n",
       "      <td>49.6</td>\n",
       "      <td>2.5</td>\n",
       "    </tr>\n",
       "    <tr>\n",
       "      <th>457</th>\n",
       "      <td>RAV4</td>\n",
       "      <td>2019</td>\n",
       "      <td>33880</td>\n",
       "      <td>Automatic</td>\n",
       "      <td>7576</td>\n",
       "      <td>Hybrid</td>\n",
       "      <td>140</td>\n",
       "      <td>49.6</td>\n",
       "      <td>2.5</td>\n",
       "    </tr>\n",
       "    <tr>\n",
       "      <th>...</th>\n",
       "      <td>...</td>\n",
       "      <td>...</td>\n",
       "      <td>...</td>\n",
       "      <td>...</td>\n",
       "      <td>...</td>\n",
       "      <td>...</td>\n",
       "      <td>...</td>\n",
       "      <td>...</td>\n",
       "      <td>...</td>\n",
       "    </tr>\n",
       "    <tr>\n",
       "      <th>6707</th>\n",
       "      <td>Supra</td>\n",
       "      <td>2019</td>\n",
       "      <td>51995</td>\n",
       "      <td>Semi-Auto</td>\n",
       "      <td>4153</td>\n",
       "      <td>Petrol</td>\n",
       "      <td>145</td>\n",
       "      <td>34.5</td>\n",
       "      <td>3.0</td>\n",
       "    </tr>\n",
       "    <tr>\n",
       "      <th>6708</th>\n",
       "      <td>Supra</td>\n",
       "      <td>2019</td>\n",
       "      <td>49499</td>\n",
       "      <td>Automatic</td>\n",
       "      <td>10</td>\n",
       "      <td>Petrol</td>\n",
       "      <td>145</td>\n",
       "      <td>34.5</td>\n",
       "      <td>3.0</td>\n",
       "    </tr>\n",
       "    <tr>\n",
       "      <th>6709</th>\n",
       "      <td>Supra</td>\n",
       "      <td>2019</td>\n",
       "      <td>48950</td>\n",
       "      <td>Automatic</td>\n",
       "      <td>2771</td>\n",
       "      <td>Petrol</td>\n",
       "      <td>145</td>\n",
       "      <td>34.5</td>\n",
       "      <td>3.0</td>\n",
       "    </tr>\n",
       "    <tr>\n",
       "      <th>6710</th>\n",
       "      <td>Supra</td>\n",
       "      <td>2019</td>\n",
       "      <td>49490</td>\n",
       "      <td>Automatic</td>\n",
       "      <td>162</td>\n",
       "      <td>Petrol</td>\n",
       "      <td>145</td>\n",
       "      <td>34.5</td>\n",
       "      <td>3.0</td>\n",
       "    </tr>\n",
       "    <tr>\n",
       "      <th>6711</th>\n",
       "      <td>Supra</td>\n",
       "      <td>2019</td>\n",
       "      <td>59995</td>\n",
       "      <td>Automatic</td>\n",
       "      <td>9909</td>\n",
       "      <td>Other</td>\n",
       "      <td>150</td>\n",
       "      <td>34.5</td>\n",
       "      <td>3.0</td>\n",
       "    </tr>\n",
       "  </tbody>\n",
       "</table>\n",
       "<p>68 rows × 9 columns</p>\n",
       "</div>"
      ],
      "text/plain": [
       "       model  year  price transmission  mileage fuelType  tax   mpg  \\\n",
       "356     RAV4  2019  32995    Automatic     7017   Hybrid  135  49.6   \n",
       "381     RAV4  2019  37440    Automatic     2764   Hybrid  135  51.1   \n",
       "394     RAV4  2019  34990    Automatic     5000   Hybrid  135  49.6   \n",
       "407     RAV4  2019  34990    Automatic     5660   Hybrid  140  49.6   \n",
       "457     RAV4  2019  33880    Automatic     7576   Hybrid  140  49.6   \n",
       "...      ...   ...    ...          ...      ...      ...  ...   ...   \n",
       "6707   Supra  2019  51995    Semi-Auto     4153   Petrol  145  34.5   \n",
       "6708   Supra  2019  49499    Automatic       10   Petrol  145  34.5   \n",
       "6709   Supra  2019  48950    Automatic     2771   Petrol  145  34.5   \n",
       "6710   Supra  2019  49490    Automatic      162   Petrol  145  34.5   \n",
       "6711   Supra  2019  59995    Automatic     9909    Other  150  34.5   \n",
       "\n",
       "      engineSize  \n",
       "356          2.5  \n",
       "381          2.5  \n",
       "394          2.5  \n",
       "407          2.5  \n",
       "457          2.5  \n",
       "...          ...  \n",
       "6707         3.0  \n",
       "6708         3.0  \n",
       "6709         3.0  \n",
       "6710         3.0  \n",
       "6711         3.0  \n",
       "\n",
       "[68 rows x 9 columns]"
      ]
     },
     "execution_count": 47,
     "metadata": {},
     "output_type": "execute_result"
    }
   ],
   "source": [
    "# Cars with the highest prices\n",
    "data[data['price'] > data['price'].quantile(0.99)]"
   ]
  },
  {
   "cell_type": "code",
   "execution_count": 48,
   "id": "6484a9b2",
   "metadata": {},
   "outputs": [
    {
     "data": {
      "text/html": [
       "<div>\n",
       "<style scoped>\n",
       "    .dataframe tbody tr th:only-of-type {\n",
       "        vertical-align: middle;\n",
       "    }\n",
       "\n",
       "    .dataframe tbody tr th {\n",
       "        vertical-align: top;\n",
       "    }\n",
       "\n",
       "    .dataframe thead th {\n",
       "        text-align: right;\n",
       "    }\n",
       "</style>\n",
       "<table border=\"1\" class=\"dataframe\">\n",
       "  <thead>\n",
       "    <tr style=\"text-align: right;\">\n",
       "      <th></th>\n",
       "      <th>model</th>\n",
       "      <th>year</th>\n",
       "      <th>price</th>\n",
       "      <th>transmission</th>\n",
       "      <th>mileage</th>\n",
       "      <th>fuelType</th>\n",
       "      <th>tax</th>\n",
       "      <th>mpg</th>\n",
       "      <th>engineSize</th>\n",
       "    </tr>\n",
       "  </thead>\n",
       "  <tbody>\n",
       "    <tr>\n",
       "      <th>74</th>\n",
       "      <td>Corolla</td>\n",
       "      <td>2005</td>\n",
       "      <td>1300</td>\n",
       "      <td>Manual</td>\n",
       "      <td>129000</td>\n",
       "      <td>Petrol</td>\n",
       "      <td>260</td>\n",
       "      <td>36.7</td>\n",
       "      <td>1.8</td>\n",
       "    </tr>\n",
       "    <tr>\n",
       "      <th>259</th>\n",
       "      <td>Corolla</td>\n",
       "      <td>2003</td>\n",
       "      <td>1495</td>\n",
       "      <td>Manual</td>\n",
       "      <td>89000</td>\n",
       "      <td>Petrol</td>\n",
       "      <td>235</td>\n",
       "      <td>39.2</td>\n",
       "      <td>1.6</td>\n",
       "    </tr>\n",
       "    <tr>\n",
       "      <th>263</th>\n",
       "      <td>Corolla</td>\n",
       "      <td>2004</td>\n",
       "      <td>1250</td>\n",
       "      <td>Manual</td>\n",
       "      <td>111000</td>\n",
       "      <td>Petrol</td>\n",
       "      <td>260</td>\n",
       "      <td>37.2</td>\n",
       "      <td>1.8</td>\n",
       "    </tr>\n",
       "    <tr>\n",
       "      <th>282</th>\n",
       "      <td>Corolla</td>\n",
       "      <td>2003</td>\n",
       "      <td>2195</td>\n",
       "      <td>Automatic</td>\n",
       "      <td>102000</td>\n",
       "      <td>Petrol</td>\n",
       "      <td>300</td>\n",
       "      <td>34.5</td>\n",
       "      <td>1.8</td>\n",
       "    </tr>\n",
       "    <tr>\n",
       "      <th>289</th>\n",
       "      <td>Corolla</td>\n",
       "      <td>2001</td>\n",
       "      <td>899</td>\n",
       "      <td>Automatic</td>\n",
       "      <td>76000</td>\n",
       "      <td>Petrol</td>\n",
       "      <td>300</td>\n",
       "      <td>35.3</td>\n",
       "      <td>1.6</td>\n",
       "    </tr>\n",
       "    <tr>\n",
       "      <th>...</th>\n",
       "      <td>...</td>\n",
       "      <td>...</td>\n",
       "      <td>...</td>\n",
       "      <td>...</td>\n",
       "      <td>...</td>\n",
       "      <td>...</td>\n",
       "      <td>...</td>\n",
       "      <td>...</td>\n",
       "      <td>...</td>\n",
       "    </tr>\n",
       "    <tr>\n",
       "      <th>6431</th>\n",
       "      <td>Avensis</td>\n",
       "      <td>2007</td>\n",
       "      <td>1200</td>\n",
       "      <td>Automatic</td>\n",
       "      <td>120000</td>\n",
       "      <td>Petrol</td>\n",
       "      <td>300</td>\n",
       "      <td>36.7</td>\n",
       "      <td>1.8</td>\n",
       "    </tr>\n",
       "    <tr>\n",
       "      <th>6434</th>\n",
       "      <td>Verso</td>\n",
       "      <td>2009</td>\n",
       "      <td>2300</td>\n",
       "      <td>Manual</td>\n",
       "      <td>131797</td>\n",
       "      <td>Diesel</td>\n",
       "      <td>160</td>\n",
       "      <td>51.4</td>\n",
       "      <td>2.0</td>\n",
       "    </tr>\n",
       "    <tr>\n",
       "      <th>6511</th>\n",
       "      <td>Verso</td>\n",
       "      <td>2003</td>\n",
       "      <td>2395</td>\n",
       "      <td>Automatic</td>\n",
       "      <td>104000</td>\n",
       "      <td>Petrol</td>\n",
       "      <td>300</td>\n",
       "      <td>34.5</td>\n",
       "      <td>1.8</td>\n",
       "    </tr>\n",
       "    <tr>\n",
       "      <th>6728</th>\n",
       "      <td>IQ</td>\n",
       "      <td>2009</td>\n",
       "      <td>2699</td>\n",
       "      <td>Manual</td>\n",
       "      <td>74095</td>\n",
       "      <td>Petrol</td>\n",
       "      <td>0</td>\n",
       "      <td>65.7</td>\n",
       "      <td>1.0</td>\n",
       "    </tr>\n",
       "    <tr>\n",
       "      <th>6732</th>\n",
       "      <td>IQ</td>\n",
       "      <td>2012</td>\n",
       "      <td>2495</td>\n",
       "      <td>Manual</td>\n",
       "      <td>72498</td>\n",
       "      <td>Petrol</td>\n",
       "      <td>0</td>\n",
       "      <td>64.2</td>\n",
       "      <td>1.0</td>\n",
       "    </tr>\n",
       "  </tbody>\n",
       "</table>\n",
       "<p>68 rows × 9 columns</p>\n",
       "</div>"
      ],
      "text/plain": [
       "         model  year  price transmission  mileage fuelType  tax   mpg  \\\n",
       "74     Corolla  2005   1300       Manual   129000   Petrol  260  36.7   \n",
       "259    Corolla  2003   1495       Manual    89000   Petrol  235  39.2   \n",
       "263    Corolla  2004   1250       Manual   111000   Petrol  260  37.2   \n",
       "282    Corolla  2003   2195    Automatic   102000   Petrol  300  34.5   \n",
       "289    Corolla  2001    899    Automatic    76000   Petrol  300  35.3   \n",
       "...        ...   ...    ...          ...      ...      ...  ...   ...   \n",
       "6431   Avensis  2007   1200    Automatic   120000   Petrol  300  36.7   \n",
       "6434     Verso  2009   2300       Manual   131797   Diesel  160  51.4   \n",
       "6511     Verso  2003   2395    Automatic   104000   Petrol  300  34.5   \n",
       "6728        IQ  2009   2699       Manual    74095   Petrol    0  65.7   \n",
       "6732        IQ  2012   2495       Manual    72498   Petrol    0  64.2   \n",
       "\n",
       "      engineSize  \n",
       "74           1.8  \n",
       "259          1.6  \n",
       "263          1.8  \n",
       "282          1.8  \n",
       "289          1.6  \n",
       "...          ...  \n",
       "6431         1.8  \n",
       "6434         2.0  \n",
       "6511         1.8  \n",
       "6728         1.0  \n",
       "6732         1.0  \n",
       "\n",
       "[68 rows x 9 columns]"
      ]
     },
     "execution_count": 48,
     "metadata": {},
     "output_type": "execute_result"
    }
   ],
   "source": [
    "# Cars with the lowest prices\n",
    "data[data['price'] < data['price'].quantile(0.01)]"
   ]
  },
  {
   "cell_type": "markdown",
   "id": "28d2d83f",
   "metadata": {},
   "source": [
    "It looks like lowest and highest prices are due to high and low mileage. Let's check it with the scatter plot:"
   ]
  },
  {
   "cell_type": "code",
   "execution_count": 49,
   "id": "b027d88a",
   "metadata": {},
   "outputs": [
    {
     "data": {
      "image/png": "[encoded data removed]",
      "text/plain": [
       "<Figure size 640x480 with 1 Axes>"
      ]
     },
     "metadata": {},
     "output_type": "display_data"
    }
   ],
   "source": [
    "sns.regplot(data=data, x='mileage', y='price')\n",
    "plt.show()"
   ]
  },
  {
   "cell_type": "markdown",
   "id": "f4d5f659",
   "metadata": {},
   "source": [
    "Indeed, the plot confirms our hypothesis, so we won't exclude these extremes from our model.\n",
    "\n",
    "Let's explore how prices are affected by year, fuel type and engine size:"
   ]
  },
  {
   "cell_type": "code",
   "execution_count": 50,
   "id": "7e1089c7",
   "metadata": {},
   "outputs": [
    {
     "data": {
      "image/png": "[encoded data removed]",
      "text/plain": [
       "<Figure size 640x480 with 1 Axes>"
      ]
     },
     "metadata": {},
     "output_type": "display_data"
    }
   ],
   "source": [
    "sns.scatterplot(data=data, x='year', y='price', hue='fuelType', size='engineSize')\n",
    "plt.show()"
   ]
  },
  {
   "cell_type": "markdown",
   "id": "e72b5eb9",
   "metadata": {},
   "source": [
    "It looks like newer cars are more expensive, as well as cars with diesel fuel type and a big engine."
   ]
  },
  {
   "cell_type": "markdown",
   "id": "bdd27941",
   "metadata": {},
   "source": [
    "## Model Development"
   ]
  },
  {
   "cell_type": "markdown",
   "id": "15adf265",
   "metadata": {},
   "source": [
    "### Linear Regression"
   ]
  },
  {
   "cell_type": "markdown",
   "id": "190a5431",
   "metadata": {},
   "source": [
    "We deal here with a regression problem, so let's start with a linear regression model. Then we'll try Random Forests.\n",
    "\n",
    "We'll do one-hot encoding on categorical features:"
   ]
  },
  {
   "cell_type": "code",
   "execution_count": 51,
   "id": "470e3e9c",
   "metadata": {},
   "outputs": [
    {
     "data": {
      "text/html": [
       "<div>\n",
       "<style scoped>\n",
       "    .dataframe tbody tr th:only-of-type {\n",
       "        vertical-align: middle;\n",
       "    }\n",
       "\n",
       "    .dataframe tbody tr th {\n",
       "        vertical-align: top;\n",
       "    }\n",
       "\n",
       "    .dataframe thead th {\n",
       "        text-align: right;\n",
       "    }\n",
       "</style>\n",
       "<table border=\"1\" class=\"dataframe\">\n",
       "  <thead>\n",
       "    <tr style=\"text-align: right;\">\n",
       "      <th></th>\n",
       "      <th>year</th>\n",
       "      <th>price</th>\n",
       "      <th>mileage</th>\n",
       "      <th>tax</th>\n",
       "      <th>mpg</th>\n",
       "      <th>engineSize</th>\n",
       "      <th>model_ Avensis</th>\n",
       "      <th>model_ Aygo</th>\n",
       "      <th>model_ C-HR</th>\n",
       "      <th>model_ Camry</th>\n",
       "      <th>...</th>\n",
       "      <th>model_ Urban Cruiser</th>\n",
       "      <th>model_ Verso</th>\n",
       "      <th>model_ Verso-S</th>\n",
       "      <th>model_ Yaris</th>\n",
       "      <th>transmission_Manual</th>\n",
       "      <th>transmission_Other</th>\n",
       "      <th>transmission_Semi-Auto</th>\n",
       "      <th>fuelType_Hybrid</th>\n",
       "      <th>fuelType_Other</th>\n",
       "      <th>fuelType_Petrol</th>\n",
       "    </tr>\n",
       "  </thead>\n",
       "  <tbody>\n",
       "    <tr>\n",
       "      <th>0</th>\n",
       "      <td>2016</td>\n",
       "      <td>16000</td>\n",
       "      <td>24089</td>\n",
       "      <td>265</td>\n",
       "      <td>36.2</td>\n",
       "      <td>2.0</td>\n",
       "      <td>0</td>\n",
       "      <td>0</td>\n",
       "      <td>0</td>\n",
       "      <td>0</td>\n",
       "      <td>...</td>\n",
       "      <td>0</td>\n",
       "      <td>0</td>\n",
       "      <td>0</td>\n",
       "      <td>0</td>\n",
       "      <td>1</td>\n",
       "      <td>0</td>\n",
       "      <td>0</td>\n",
       "      <td>0</td>\n",
       "      <td>0</td>\n",
       "      <td>1</td>\n",
       "    </tr>\n",
       "    <tr>\n",
       "      <th>1</th>\n",
       "      <td>2017</td>\n",
       "      <td>15995</td>\n",
       "      <td>18615</td>\n",
       "      <td>145</td>\n",
       "      <td>36.2</td>\n",
       "      <td>2.0</td>\n",
       "      <td>0</td>\n",
       "      <td>0</td>\n",
       "      <td>0</td>\n",
       "      <td>0</td>\n",
       "      <td>...</td>\n",
       "      <td>0</td>\n",
       "      <td>0</td>\n",
       "      <td>0</td>\n",
       "      <td>0</td>\n",
       "      <td>1</td>\n",
       "      <td>0</td>\n",
       "      <td>0</td>\n",
       "      <td>0</td>\n",
       "      <td>0</td>\n",
       "      <td>1</td>\n",
       "    </tr>\n",
       "    <tr>\n",
       "      <th>2</th>\n",
       "      <td>2015</td>\n",
       "      <td>13998</td>\n",
       "      <td>27469</td>\n",
       "      <td>265</td>\n",
       "      <td>36.2</td>\n",
       "      <td>2.0</td>\n",
       "      <td>0</td>\n",
       "      <td>0</td>\n",
       "      <td>0</td>\n",
       "      <td>0</td>\n",
       "      <td>...</td>\n",
       "      <td>0</td>\n",
       "      <td>0</td>\n",
       "      <td>0</td>\n",
       "      <td>0</td>\n",
       "      <td>1</td>\n",
       "      <td>0</td>\n",
       "      <td>0</td>\n",
       "      <td>0</td>\n",
       "      <td>0</td>\n",
       "      <td>1</td>\n",
       "    </tr>\n",
       "    <tr>\n",
       "      <th>3</th>\n",
       "      <td>2017</td>\n",
       "      <td>18998</td>\n",
       "      <td>14736</td>\n",
       "      <td>150</td>\n",
       "      <td>36.2</td>\n",
       "      <td>2.0</td>\n",
       "      <td>0</td>\n",
       "      <td>0</td>\n",
       "      <td>0</td>\n",
       "      <td>0</td>\n",
       "      <td>...</td>\n",
       "      <td>0</td>\n",
       "      <td>0</td>\n",
       "      <td>0</td>\n",
       "      <td>0</td>\n",
       "      <td>1</td>\n",
       "      <td>0</td>\n",
       "      <td>0</td>\n",
       "      <td>0</td>\n",
       "      <td>0</td>\n",
       "      <td>1</td>\n",
       "    </tr>\n",
       "    <tr>\n",
       "      <th>4</th>\n",
       "      <td>2017</td>\n",
       "      <td>17498</td>\n",
       "      <td>36284</td>\n",
       "      <td>145</td>\n",
       "      <td>36.2</td>\n",
       "      <td>2.0</td>\n",
       "      <td>0</td>\n",
       "      <td>0</td>\n",
       "      <td>0</td>\n",
       "      <td>0</td>\n",
       "      <td>...</td>\n",
       "      <td>0</td>\n",
       "      <td>0</td>\n",
       "      <td>0</td>\n",
       "      <td>0</td>\n",
       "      <td>1</td>\n",
       "      <td>0</td>\n",
       "      <td>0</td>\n",
       "      <td>0</td>\n",
       "      <td>0</td>\n",
       "      <td>1</td>\n",
       "    </tr>\n",
       "  </tbody>\n",
       "</table>\n",
       "<p>5 rows × 29 columns</p>\n",
       "</div>"
      ],
      "text/plain": [
       "   year  price  mileage  tax   mpg  engineSize  model_ Avensis  model_ Aygo  \\\n",
       "0  2016  16000    24089  265  36.2         2.0               0            0   \n",
       "1  2017  15995    18615  145  36.2         2.0               0            0   \n",
       "2  2015  13998    27469  265  36.2         2.0               0            0   \n",
       "3  2017  18998    14736  150  36.2         2.0               0            0   \n",
       "4  2017  17498    36284  145  36.2         2.0               0            0   \n",
       "\n",
       "   model_ C-HR  model_ Camry  ...  model_ Urban Cruiser  model_ Verso  \\\n",
       "0            0             0  ...                     0             0   \n",
       "1            0             0  ...                     0             0   \n",
       "2            0             0  ...                     0             0   \n",
       "3            0             0  ...                     0             0   \n",
       "4            0             0  ...                     0             0   \n",
       "\n",
       "   model_ Verso-S  model_ Yaris  transmission_Manual  transmission_Other  \\\n",
       "0               0             0                    1                   0   \n",
       "1               0             0                    1                   0   \n",
       "2               0             0                    1                   0   \n",
       "3               0             0                    1                   0   \n",
       "4               0             0                    1                   0   \n",
       "\n",
       "   transmission_Semi-Auto  fuelType_Hybrid  fuelType_Other  fuelType_Petrol  \n",
       "0                       0                0               0                1  \n",
       "1                       0                0               0                1  \n",
       "2                       0                0               0                1  \n",
       "3                       0                0               0                1  \n",
       "4                       0                0               0                1  \n",
       "\n",
       "[5 rows x 29 columns]"
      ]
     },
     "execution_count": 51,
     "metadata": {},
     "output_type": "execute_result"
    }
   ],
   "source": [
    "data = pd.get_dummies(data, columns=['model', 'transmission', 'fuelType'], drop_first=True)\n",
    "data.head()"
   ]
  },
  {
   "cell_type": "markdown",
   "id": "e819b9d9",
   "metadata": {},
   "source": [
    "Let's split our data into a train and a test set:"
   ]
  },
  {
   "cell_type": "code",
   "execution_count": 52,
   "id": "dbd947a1",
   "metadata": {},
   "outputs": [],
   "source": [
    "# Set SEED for reproducibility\n",
    "SEED = 37\n",
    "\n",
    "from sklearn.model_selection import train_test_split\n",
    "\n",
    "X = data.drop(['price'], axis=1)\n",
    "y = data['price']\n",
    "\n",
    "X_train, X_test, y_train, y_test = train_test_split(X, y, test_size=0.2, random_state=SEED)"
   ]
  },
  {
   "cell_type": "markdown",
   "id": "1ee14701",
   "metadata": {},
   "source": [
    "Let's normalize all the features:"
   ]
  },
  {
   "cell_type": "code",
   "execution_count": 53,
   "id": "344f40f9",
   "metadata": {},
   "outputs": [],
   "source": [
    "# Import StandardScaler\n",
    "from sklearn.preprocessing import StandardScaler\n",
    "\n",
    "# Create the scaler\n",
    "scaler = StandardScaler()\n",
    "\n",
    "# Scale the training and test features\n",
    "X_train_scaled = scaler.fit_transform(X_train)\n",
    "X_test_scaled = scaler.transform(X_test)"
   ]
  },
  {
   "cell_type": "markdown",
   "id": "019d74e7",
   "metadata": {},
   "source": [
    "Now, let's perform 6-fold cross validation on Linear Regression model and calculate mean error (RMSE, root mean squared error, average RMSE of 6-folds):"
   ]
  },
  {
   "cell_type": "code",
   "execution_count": 54,
   "id": "05fa0da8",
   "metadata": {},
   "outputs": [
    {
     "name": "stdout",
     "output_type": "stream",
     "text": [
      "Average RMSE: 1722.9168926132118\n",
      "Standard Deviation of the target array: 6344.546731231183\n"
     ]
    }
   ],
   "source": [
    "# Import LinearRegression\n",
    "from sklearn.linear_model import LinearRegression\n",
    "\n",
    "# Create the model\n",
    "reg = LinearRegression()\n",
    "\n",
    "# Import the modules for cross-validation\n",
    "from sklearn.model_selection import cross_val_score, KFold\n",
    "\n",
    "# Create a KFold object\n",
    "kf = KFold(n_splits=6, shuffle=True, random_state=SEED)\n",
    "\n",
    "# Perform cross-validation\n",
    "scores = cross_val_score(reg, X_train_scaled, y_train, cv=kf, scoring=\"neg_mean_squared_error\")\n",
    "\n",
    "# Calculate RMSE\n",
    "rmse = np.sqrt(np.abs(scores))\n",
    "print(\"Average RMSE: {}\".format(np.mean(rmse)))\n",
    "print(\"Standard Deviation of the target array: {}\".format(np.std(y)))"
   ]
  },
  {
   "cell_type": "markdown",
   "id": "f81b4dac",
   "metadata": {},
   "source": [
    "We can see that the average RMSE is way lower than the standard deviation of the target variable (price), suggesting the model is reasonably accurate.\n",
    "\n",
    "Let's explore how the independent variables affect the price, according to the linear regression model:"
   ]
  },
  {
   "cell_type": "code",
   "execution_count": 55,
   "id": "17c99936",
   "metadata": {},
   "outputs": [
    {
     "data": {
      "text/plain": [
       "year                      1744.438765\n",
       "mileage                  -1193.292368\n",
       "tax                       -309.561936\n",
       "mpg                       -173.748241\n",
       "engineSize                1504.925159\n",
       "model_ Avensis             142.186079\n",
       "model_ Aygo              -1135.614092\n",
       "model_ C-HR               1435.674819\n",
       "model_ Camry               282.569514\n",
       "model_ Corolla             994.252027\n",
       "model_ GT86                557.930015\n",
       "model_ Hilux               899.716708\n",
       "model_ IQ                   -9.135505\n",
       "model_ Land Cruiser       1988.594238\n",
       "model_ PROACE VERSO        668.921400\n",
       "model_ Prius               894.066137\n",
       "model_ RAV4               1174.496188\n",
       "model_ Supra              1166.391291\n",
       "model_ Urban Cruiser         1.296486\n",
       "model_ Verso               135.144567\n",
       "model_ Verso-S              10.040970\n",
       "model_ Yaris              -696.861064\n",
       "transmission_Manual       -631.693139\n",
       "transmission_Other          13.667133\n",
       "transmission_Semi-Auto      12.453798\n",
       "fuelType_Hybrid           1367.961896\n",
       "fuelType_Other             340.473823\n",
       "fuelType_Petrol            751.469847\n",
       "dtype: float64"
      ]
     },
     "execution_count": 55,
     "metadata": {},
     "output_type": "execute_result"
    }
   ],
   "source": [
    "reg.fit(X_train_scaled, y_train)\n",
    "feature_effect = pd.Series(data=reg.coef_, index=X.columns)\n",
    "feature_effect"
   ]
  },
  {
   "cell_type": "markdown",
   "id": "8ac91bde",
   "metadata": {},
   "source": [
    "As we saw before on plots, price gets higher as year and engine size gets higher, and price gets lower as mileage get higher."
   ]
  },
  {
   "cell_type": "markdown",
   "id": "d3d77329",
   "metadata": {},
   "source": [
    "### Random Forests"
   ]
  },
  {
   "cell_type": "markdown",
   "id": "13a5f827",
   "metadata": {},
   "source": [
    "Now, let's try Random Forests with grid search and 6-fold cross-validation:"
   ]
  },
  {
   "cell_type": "code",
   "execution_count": 56,
   "id": "296fe740",
   "metadata": {},
   "outputs": [
    {
     "data": {
      "text/html": [
       "<style>#sk-container-id-2 {color: black;background-color: white;}#sk-container-id-2 pre{padding: 0;}#sk-container-id-2 div.sk-toggleable {background-color: white;}#sk-container-id-2 label.sk-toggleable__label {cursor: pointer;display: block;width: 100%;margin-bottom: 0;padding: 0.3em;box-sizing: border-box;text-align: center;}#sk-container-id-2 label.sk-toggleable__label-arrow:before {content: \"▸\";float: left;margin-right: 0.25em;color: #696969;}#sk-container-id-2 label.sk-toggleable__label-arrow:hover:before {color: black;}#sk-container-id-2 div.sk-estimator:hover label.sk-toggleable__label-arrow:before {color: black;}#sk-container-id-2 div.sk-toggleable__content {max-height: 0;max-width: 0;overflow: hidden;text-align: left;background-color: #f0f8ff;}#sk-container-id-2 div.sk-toggleable__content pre {margin: 0.2em;color: black;border-radius: 0.25em;background-color: #f0f8ff;}#sk-container-id-2 input.sk-toggleable__control:checked~div.sk-toggleable__content {max-height: 200px;max-width: 100%;overflow: auto;}#sk-container-id-2 input.sk-toggleable__control:checked~label.sk-toggleable__label-arrow:before {content: \"▾\";}#sk-container-id-2 div.sk-estimator input.sk-toggleable__control:checked~label.sk-toggleable__label {background-color: #d4ebff;}#sk-container-id-2 div.sk-label input.sk-toggleable__control:checked~label.sk-toggleable__label {background-color: #d4ebff;}#sk-container-id-2 input.sk-hidden--visually {border: 0;clip: rect(1px 1px 1px 1px);clip: rect(1px, 1px, 1px, 1px);height: 1px;margin: -1px;overflow: hidden;padding: 0;position: absolute;width: 1px;}#sk-container-id-2 div.sk-estimator {font-family: monospace;background-color: #f0f8ff;border: 1px dotted black;border-radius: 0.25em;box-sizing: border-box;margin-bottom: 0.5em;}#sk-container-id-2 div.sk-estimator:hover {background-color: #d4ebff;}#sk-container-id-2 div.sk-parallel-item::after {content: \"\";width: 100%;border-bottom: 1px solid gray;flex-grow: 1;}#sk-container-id-2 div.sk-label:hover label.sk-toggleable__label {background-color: #d4ebff;}#sk-container-id-2 div.sk-serial::before {content: \"\";position: absolute;border-left: 1px solid gray;box-sizing: border-box;top: 0;bottom: 0;left: 50%;z-index: 0;}#sk-container-id-2 div.sk-serial {display: flex;flex-direction: column;align-items: center;background-color: white;padding-right: 0.2em;padding-left: 0.2em;position: relative;}#sk-container-id-2 div.sk-item {position: relative;z-index: 1;}#sk-container-id-2 div.sk-parallel {display: flex;align-items: stretch;justify-content: center;background-color: white;position: relative;}#sk-container-id-2 div.sk-item::before, #sk-container-id-2 div.sk-parallel-item::before {content: \"\";position: absolute;border-left: 1px solid gray;box-sizing: border-box;top: 0;bottom: 0;left: 50%;z-index: -1;}#sk-container-id-2 div.sk-parallel-item {display: flex;flex-direction: column;z-index: 1;position: relative;background-color: white;}#sk-container-id-2 div.sk-parallel-item:first-child::after {align-self: flex-end;width: 50%;}#sk-container-id-2 div.sk-parallel-item:last-child::after {align-self: flex-start;width: 50%;}#sk-container-id-2 div.sk-parallel-item:only-child::after {width: 0;}#sk-container-id-2 div.sk-dashed-wrapped {border: 1px dashed gray;margin: 0 0.4em 0.5em 0.4em;box-sizing: border-box;padding-bottom: 0.4em;background-color: white;}#sk-container-id-2 div.sk-label label {font-family: monospace;font-weight: bold;display: inline-block;line-height: 1.2em;}#sk-container-id-2 div.sk-label-container {text-align: center;}#sk-container-id-2 div.sk-container {/* jupyter's `normalize.less` sets `[hidden] { display: none; }` but bootstrap.min.css set `[hidden] { display: none !important; }` so we also need the `!important` here to be able to override the default hidden behavior on the sphinx rendered scikit-learn.org. See: https://github.com/scikit-learn/scikit-learn/issues/21755 */display: inline-block !important;position: relative;}#sk-container-id-2 div.sk-text-repr-fallback {display: none;}</style><div id=\"sk-container-id-2\" class=\"sk-top-container\"><div class=\"sk-text-repr-fallback\"><pre>GridSearchCV(cv=6, estimator=RandomForestRegressor(random_state=37), n_jobs=-1,\n",
       "             param_grid={&#x27;max_features&#x27;: [&#x27;log2&#x27;, &#x27;sqrt&#x27;, 0.8, 1.0],\n",
       "                         &#x27;min_samples_leaf&#x27;: [1, 2, 10],\n",
       "                         &#x27;n_estimators&#x27;: [100, 500, 1000]},\n",
       "             scoring=&#x27;neg_mean_squared_error&#x27;)</pre><b>In a Jupyter environment, please rerun this cell to show the HTML representation or trust the notebook. <br />On GitHub, the HTML representation is unable to render, please try loading this page with nbviewer.org.</b></div><div class=\"sk-container\" hidden><div class=\"sk-item sk-dashed-wrapped\"><div class=\"sk-label-container\"><div class=\"sk-label sk-toggleable\"><input class=\"sk-toggleable__control sk-hidden--visually\" id=\"sk-estimator-id-4\" type=\"checkbox\" ><label for=\"sk-estimator-id-4\" class=\"sk-toggleable__label sk-toggleable__label-arrow\">GridSearchCV</label><div class=\"sk-toggleable__content\"><pre>GridSearchCV(cv=6, estimator=RandomForestRegressor(random_state=37), n_jobs=-1,\n",
       "             param_grid={&#x27;max_features&#x27;: [&#x27;log2&#x27;, &#x27;sqrt&#x27;, 0.8, 1.0],\n",
       "                         &#x27;min_samples_leaf&#x27;: [1, 2, 10],\n",
       "                         &#x27;n_estimators&#x27;: [100, 500, 1000]},\n",
       "             scoring=&#x27;neg_mean_squared_error&#x27;)</pre></div></div></div><div class=\"sk-parallel\"><div class=\"sk-parallel-item\"><div class=\"sk-item\"><div class=\"sk-label-container\"><div class=\"sk-label sk-toggleable\"><input class=\"sk-toggleable__control sk-hidden--visually\" id=\"sk-estimator-id-5\" type=\"checkbox\" ><label for=\"sk-estimator-id-5\" class=\"sk-toggleable__label sk-toggleable__label-arrow\">estimator: RandomForestRegressor</label><div class=\"sk-toggleable__content\"><pre>RandomForestRegressor(random_state=37)</pre></div></div></div><div class=\"sk-serial\"><div class=\"sk-item\"><div class=\"sk-estimator sk-toggleable\"><input class=\"sk-toggleable__control sk-hidden--visually\" id=\"sk-estimator-id-6\" type=\"checkbox\" ><label for=\"sk-estimator-id-6\" class=\"sk-toggleable__label sk-toggleable__label-arrow\">RandomForestRegressor</label><div class=\"sk-toggleable__content\"><pre>RandomForestRegressor(random_state=37)</pre></div></div></div></div></div></div></div></div></div></div>"
      ],
      "text/plain": [
       "GridSearchCV(cv=6, estimator=RandomForestRegressor(random_state=37), n_jobs=-1,\n",
       "             param_grid={'max_features': ['log2', 'sqrt', 0.8, 1.0],\n",
       "                         'min_samples_leaf': [1, 2, 10],\n",
       "                         'n_estimators': [100, 500, 1000]},\n",
       "             scoring='neg_mean_squared_error')"
      ]
     },
     "execution_count": 56,
     "metadata": {},
     "output_type": "execute_result"
    }
   ],
   "source": [
    "# Parameters for grid search\n",
    "params_rf = {'n_estimators': [100, 500, 1000], 'max_features': ['log2', 'sqrt', 0.8, 1.0], \\\n",
    "             'min_samples_leaf': [1, 2, 10]}\n",
    "\n",
    "# Import RandomForestRegressor\n",
    "from sklearn.ensemble import RandomForestRegressor\n",
    "\n",
    "# Instantiate rf\n",
    "rf = RandomForestRegressor(random_state=SEED)\n",
    "\n",
    "# Import GridSearchCV\n",
    "from sklearn.model_selection import GridSearchCV\n",
    "\n",
    "# Instantiate grid_rf\n",
    "grid_rf = GridSearchCV(estimator=rf,\n",
    "                       param_grid=params_rf,\n",
    "                       scoring='neg_mean_squared_error',\n",
    "                       cv=6,\n",
    "                       verbose=0,\n",
    "                       n_jobs=-1)\n",
    "\n",
    "# Train the models\n",
    "grid_rf.fit(X_train_scaled, y_train)"
   ]
  },
  {
   "cell_type": "markdown",
   "id": "9e199141",
   "metadata": {},
   "source": [
    "Let's look at the parameters from the grid search with the highest score:"
   ]
  },
  {
   "cell_type": "code",
   "execution_count": 57,
   "id": "99ec4876",
   "metadata": {},
   "outputs": [
    {
     "data": {
      "text/plain": [
       "{'max_features': 0.8, 'min_samples_leaf': 2, 'n_estimators': 500}"
      ]
     },
     "execution_count": 57,
     "metadata": {},
     "output_type": "execute_result"
    }
   ],
   "source": [
    "grid_rf.best_params_"
   ]
  },
  {
   "cell_type": "markdown",
   "id": "a1864c7c",
   "metadata": {},
   "source": [
    "We can see, that none of the best parameters are on the extremes of our grid search, therefore, w, most likely, don't need to extend the grid."
   ]
  },
  {
   "cell_type": "markdown",
   "id": "412d47df",
   "metadata": {},
   "source": [
    "Now, let's look at the mean error of the best estimator (RMSE, root mean squared error, average RMSE of 6-folds): "
   ]
  },
  {
   "cell_type": "code",
   "execution_count": 58,
   "id": "206149a4",
   "metadata": {},
   "outputs": [
    {
     "name": "stdout",
     "output_type": "stream",
     "text": [
      "Average RMSE of the best Random Forests model: 1204.424\n",
      "Average RMSE of the Linear Regression model: 1722.917\n"
     ]
    }
   ],
   "source": [
    "rmse_RF = abs(grid_rf.best_score_) ** (1/2)\n",
    "\n",
    "print('Average RMSE of the best Random Forests model: {:.3f}'.format(rmse_RF)) \n",
    "print('Average RMSE of the Linear Regression model: {:.3f}'.format(np.mean(rmse)))"
   ]
  },
  {
   "cell_type": "markdown",
   "id": "01d46661",
   "metadata": {},
   "source": [
    "We can see, that the best Random Forests model performed better, that the the Linear Regression model.\n",
    "\n",
    "Let's explore how important the independent variables for predicting the price, according to the best Random Forests model. The result is the percentage of the total effect, expressing the importance of the feature, NOT the vector and magnitude of the effect:"
   ]
  },
  {
   "cell_type": "code",
   "execution_count": 59,
   "id": "1c847dd4",
   "metadata": {},
   "outputs": [
    {
     "data": {
      "text/plain": [
       "year                      23.5\n",
       "mileage                    6.5\n",
       "tax                        0.9\n",
       "mpg                        6.6\n",
       "engineSize                49.0\n",
       "model_ Avensis             0.1\n",
       "model_ Aygo                0.4\n",
       "model_ C-HR                1.5\n",
       "model_ Camry               0.0\n",
       "model_ Corolla             0.1\n",
       "model_ GT86                0.0\n",
       "model_ Hilux               0.0\n",
       "model_ IQ                  0.0\n",
       "model_ Land Cruiser        2.1\n",
       "model_ PROACE VERSO        0.0\n",
       "model_ Prius               0.8\n",
       "model_ RAV4                0.3\n",
       "model_ Supra               0.4\n",
       "model_ Urban Cruiser       0.0\n",
       "model_ Verso               0.1\n",
       "model_ Verso-S             0.0\n",
       "model_ Yaris               0.2\n",
       "transmission_Manual        3.8\n",
       "transmission_Other         0.0\n",
       "transmission_Semi-Auto     0.1\n",
       "fuelType_Hybrid            0.3\n",
       "fuelType_Other             0.0\n",
       "fuelType_Petrol            3.2\n",
       "dtype: float64"
      ]
     },
     "execution_count": 59,
     "metadata": {},
     "output_type": "execute_result"
    }
   ],
   "source": [
    "best_RF = grid_rf.best_estimator_\n",
    "\n",
    "feature_importances_RF = pd.Series(data=best_RF.feature_importances_, index=X.columns)\n",
    "round(feature_importances_RF, 3) * 100"
   ]
  },
  {
   "cell_type": "markdown",
   "id": "8fb7ad39",
   "metadata": {},
   "source": [
    "As we can see, according to the best Random Forests model, year and engine size are the main factors."
   ]
  },
  {
   "cell_type": "markdown",
   "id": "5d66b523",
   "metadata": {},
   "source": [
    "## Final testing"
   ]
  },
  {
   "cell_type": "markdown",
   "id": "ebc4aae9",
   "metadata": {},
   "source": [
    "Now, let's test our best model on the test data. We'll caclulate the test RMSE first:"
   ]
  },
  {
   "cell_type": "code",
   "execution_count": 62,
   "id": "502a567b",
   "metadata": {},
   "outputs": [
    {
     "name": "stdout",
     "output_type": "stream",
     "text": [
      "Test RMSE of the best model: 1247.034\n",
      "Standard Deviation of the target array in the test: 6293.6075349570665\n"
     ]
    }
   ],
   "source": [
    "# Import mean_squared_error as MSE \n",
    "from sklearn.metrics import mean_squared_error as MSE\n",
    "\n",
    "# Predict test set labels\n",
    "y_pred = best_RF.predict(X_test_scaled)\n",
    "\n",
    "# Compute rmse_test\n",
    "rmse_test = MSE(y_test, y_pred) ** (1/2)\n",
    "\n",
    "# Print rmse_test\n",
    "print('Test RMSE of the best model: {:.3f}'.format(rmse_test)) \n",
    "print(\"Standard Deviation of the target array in the test: {}\".format(np.std(y_test)))"
   ]
  },
  {
   "cell_type": "markdown",
   "id": "756f4efb",
   "metadata": {},
   "source": [
    "Standard Deviation in the test is way higher than test RMSE of the best model, therefore our model is reasonably accurate on the test data.\n",
    "\n",
    "Now, let's calculate the average percentage error of the estimates:"
   ]
  },
  {
   "cell_type": "code",
   "execution_count": 61,
   "id": "87b52f6f",
   "metadata": {},
   "outputs": [
    {
     "name": "stdout",
     "output_type": "stream",
     "text": [
      "According to the test data, the estimates of the prices are off by 6.50 %, on average.\n"
     ]
    }
   ],
   "source": [
    "percentage_error = np.mean(abs(1 - y_test / y_pred) * 100)\n",
    "print('According to the test data, the estimates of the prices are off by {:.2f} %, on average.'.format(percentage_error))"
   ]
  },
  {
   "cell_type": "markdown",
   "id": "17a07037",
   "metadata": {},
   "source": [
    "Our result (6.5 % error) not only beats the human performance (30 % error), but way better than the ceiling of the wanted result that was stated by the sales team (error within 10 %)."
   ]
  },
  {
   "cell_type": "code",
   "execution_count": null,
   "id": "09280893",
   "metadata": {},
   "outputs": [],
   "source": []
  }
 ],
 "metadata": {
  "kernelspec": {
   "display_name": "Python 3 (ipykernel)",
   "language": "python",
   "name": "python3"
  },
  "language_info": {
   "codemirror_mode": {
    "name": "ipython",
    "version": 3
   },
   "file_extension": ".py",
   "mimetype": "text/x-python",
   "name": "python",
   "nbconvert_exporter": "python",
   "pygments_lexer": "ipython3",
   "version": "3.10.9"
  }
 },
 "nbformat": 4,
 "nbformat_minor": 5
}
