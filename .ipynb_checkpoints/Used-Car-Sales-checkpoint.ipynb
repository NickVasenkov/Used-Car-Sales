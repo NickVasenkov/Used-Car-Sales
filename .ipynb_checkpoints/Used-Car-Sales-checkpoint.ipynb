{
 "cells": [
  {
   "cell_type": "markdown",
   "id": "4bb4a103",
   "metadata": {},
   "source": [
    "# Used Car Sales"
   ]
  },
  {
   "cell_type": "markdown",
   "id": "fcdd0808",
   "metadata": {},
   "source": [
    "## Task description"
   ]
  },
  {
   "cell_type": "markdown",
   "id": "a051f969",
   "metadata": {},
   "source": [
    "Can you help us estimate the price we should list a car for? The team estimates are always around 30% away from the price we know the car will sell for, we really want to be within 10% of the price."
   ]
  },
  {
   "cell_type": "markdown",
   "id": "164c5774",
   "metadata": {},
   "source": [
    "## Data Validation"
   ]
  },
  {
   "cell_type": "markdown",
   "id": "a1204264",
   "metadata": {},
   "source": [
    "Here are the first five rows of our data:"
   ]
  },
  {
   "cell_type": "code",
   "execution_count": 4,
   "id": "cfecd8a1",
   "metadata": {},
   "outputs": [
    {
     "data": {
      "text/html": [
       "<div>\n",
       "<style scoped>\n",
       "    .dataframe tbody tr th:only-of-type {\n",
       "        vertical-align: middle;\n",
       "    }\n",
       "\n",
       "    .dataframe tbody tr th {\n",
       "        vertical-align: top;\n",
       "    }\n",
       "\n",
       "    .dataframe thead th {\n",
       "        text-align: right;\n",
       "    }\n",
       "</style>\n",
       "<table border=\"1\" class=\"dataframe\">\n",
       "  <thead>\n",
       "    <tr style=\"text-align: right;\">\n",
       "      <th></th>\n",
       "      <th>model</th>\n",
       "      <th>year</th>\n",
       "      <th>price</th>\n",
       "      <th>transmission</th>\n",
       "      <th>mileage</th>\n",
       "      <th>fuelType</th>\n",
       "      <th>tax</th>\n",
       "      <th>mpg</th>\n",
       "      <th>engineSize</th>\n",
       "    </tr>\n",
       "  </thead>\n",
       "  <tbody>\n",
       "    <tr>\n",
       "      <th>0</th>\n",
       "      <td>GT86</td>\n",
       "      <td>2016</td>\n",
       "      <td>16000</td>\n",
       "      <td>Manual</td>\n",
       "      <td>24089</td>\n",
       "      <td>Petrol</td>\n",
       "      <td>265</td>\n",
       "      <td>36.2</td>\n",
       "      <td>2.0</td>\n",
       "    </tr>\n",
       "    <tr>\n",
       "      <th>1</th>\n",
       "      <td>GT86</td>\n",
       "      <td>2017</td>\n",
       "      <td>15995</td>\n",
       "      <td>Manual</td>\n",
       "      <td>18615</td>\n",
       "      <td>Petrol</td>\n",
       "      <td>145</td>\n",
       "      <td>36.2</td>\n",
       "      <td>2.0</td>\n",
       "    </tr>\n",
       "    <tr>\n",
       "      <th>2</th>\n",
       "      <td>GT86</td>\n",
       "      <td>2015</td>\n",
       "      <td>13998</td>\n",
       "      <td>Manual</td>\n",
       "      <td>27469</td>\n",
       "      <td>Petrol</td>\n",
       "      <td>265</td>\n",
       "      <td>36.2</td>\n",
       "      <td>2.0</td>\n",
       "    </tr>\n",
       "    <tr>\n",
       "      <th>3</th>\n",
       "      <td>GT86</td>\n",
       "      <td>2017</td>\n",
       "      <td>18998</td>\n",
       "      <td>Manual</td>\n",
       "      <td>14736</td>\n",
       "      <td>Petrol</td>\n",
       "      <td>150</td>\n",
       "      <td>36.2</td>\n",
       "      <td>2.0</td>\n",
       "    </tr>\n",
       "    <tr>\n",
       "      <th>4</th>\n",
       "      <td>GT86</td>\n",
       "      <td>2017</td>\n",
       "      <td>17498</td>\n",
       "      <td>Manual</td>\n",
       "      <td>36284</td>\n",
       "      <td>Petrol</td>\n",
       "      <td>145</td>\n",
       "      <td>36.2</td>\n",
       "      <td>2.0</td>\n",
       "    </tr>\n",
       "  </tbody>\n",
       "</table>\n",
       "</div>"
      ],
      "text/plain": [
       "   model  year  price transmission  mileage fuelType  tax   mpg  engineSize\n",
       "0   GT86  2016  16000       Manual    24089   Petrol  265  36.2         2.0\n",
       "1   GT86  2017  15995       Manual    18615   Petrol  145  36.2         2.0\n",
       "2   GT86  2015  13998       Manual    27469   Petrol  265  36.2         2.0\n",
       "3   GT86  2017  18998       Manual    14736   Petrol  150  36.2         2.0\n",
       "4   GT86  2017  17498       Manual    36284   Petrol  145  36.2         2.0"
      ]
     },
     "execution_count": 4,
     "metadata": {},
     "output_type": "execute_result"
    }
   ],
   "source": [
    "import pandas as pd\n",
    "\n",
    "data = pd.read_csv('toyota.csv')\n",
    "data.head()"
   ]
  },
  {
   "cell_type": "markdown",
   "id": "0334392a",
   "metadata": {},
   "source": [
    "We were provided with the following description of the dataset:\n",
    "\n",
    "**model** Character, the model of the car, 18 possible values\n",
    "\n",
    "**year** Numeric, year of registration from 1998 to 2020\n",
    "\n",
    "**price** Numeric, listed value of the car in GBP\n",
    "\n",
    "**transmission** Character, one of \"Manual\", \"Automatic\", \"Semi-Auto\" or \"Other\"\n",
    "\n",
    "**mileage** Numeric, listed mileage of the car at time of sale\n",
    "\n",
    "**fuelType** Character, one of \"Petrol\", \"Hybrid\", \"Diesel\" or \"Other\n",
    "\n",
    "**tax** Numeric, road tax in GBP. Calculated based on CO2 emissions or\n",
    "a fixed price depending on the age of the car.\n",
    "\n",
    "**mpg** Numeric, miles per gallon as reported by manufacturer\n",
    "\n",
    "**engineSize** Numeric, listed engine size, one of 16 possible values\n",
    "\n",
    "As you can see below, data types are matching the description, and there are no missing values:"
   ]
  },
  {
   "cell_type": "code",
   "execution_count": 5,
   "id": "2b5cd1e9",
   "metadata": {},
   "outputs": [
    {
     "name": "stdout",
     "output_type": "stream",
     "text": [
      "<class 'pandas.core.frame.DataFrame'>\n",
      "RangeIndex: 6738 entries, 0 to 6737\n",
      "Data columns (total 9 columns):\n",
      " #   Column        Non-Null Count  Dtype  \n",
      "---  ------        --------------  -----  \n",
      " 0   model         6738 non-null   object \n",
      " 1   year          6738 non-null   int64  \n",
      " 2   price         6738 non-null   int64  \n",
      " 3   transmission  6738 non-null   object \n",
      " 4   mileage       6738 non-null   int64  \n",
      " 5   fuelType      6738 non-null   object \n",
      " 6   tax           6738 non-null   int64  \n",
      " 7   mpg           6738 non-null   float64\n",
      " 8   engineSize    6738 non-null   float64\n",
      "dtypes: float64(2), int64(4), object(3)\n",
      "memory usage: 473.9+ KB\n"
     ]
    }
   ],
   "source": [
    "data.info()"
   ]
  },
  {
   "cell_type": "markdown",
   "id": "1474720d",
   "metadata": {},
   "source": [
    "Let's validate each column of the dataset.\n",
    "\n",
    "**model** Character, the model of the car, 18 possible values\n",
    "\n",
    "Indeed, we have 18 models:"
   ]
  },
  {
   "cell_type": "code",
   "execution_count": 6,
   "id": "bda97cad",
   "metadata": {},
   "outputs": [
    {
     "name": "stdout",
     "output_type": "stream",
     "text": [
      "count       6738\n",
      "unique        18\n",
      "top        Yaris\n",
      "freq        2122\n",
      "Name: model, dtype: object\n"
     ]
    },
    {
     "data": {
      "text/plain": [
       "array([' GT86', ' Corolla', ' RAV4', ' Yaris', ' Auris', ' Aygo', ' C-HR',\n",
       "       ' Prius', ' Avensis', ' Verso', ' Hilux', ' PROACE VERSO',\n",
       "       ' Land Cruiser', ' Supra', ' Camry', ' Verso-S', ' IQ',\n",
       "       ' Urban Cruiser'], dtype=object)"
      ]
     },
     "execution_count": 6,
     "metadata": {},
     "output_type": "execute_result"
    }
   ],
   "source": [
    "print(data['model'].describe())\n",
    "data['model'].unique()"
   ]
  },
  {
   "cell_type": "markdown",
   "id": "3f3c7927",
   "metadata": {},
   "source": [
    "**year** Numeric, year of registration from 1998 to 2020\n",
    "\n",
    "This is correct:"
   ]
  },
  {
   "cell_type": "code",
   "execution_count": 7,
   "id": "4e48f4ac",
   "metadata": {},
   "outputs": [
    {
     "data": {
      "text/plain": [
       "array([1998, 1999, 2000, 2001, 2002, 2003, 2004, 2005, 2006, 2007, 2008,\n",
       "       2009, 2010, 2011, 2012, 2013, 2014, 2015, 2016, 2017, 2018, 2019,\n",
       "       2020], dtype=int64)"
      ]
     },
     "execution_count": 7,
     "metadata": {},
     "output_type": "execute_result"
    }
   ],
   "source": [
    "import numpy as np\n",
    "\n",
    "np.sort(data['year'].unique())"
   ]
  },
  {
   "cell_type": "markdown",
   "id": "c5002a6e",
   "metadata": {},
   "source": [
    "**price** Numeric, listed value of the car in GBP\n",
    "\n",
    "Prices are from 850 to 59,995:"
   ]
  },
  {
   "cell_type": "code",
   "execution_count": 8,
   "id": "c8cf3f9c",
   "metadata": {},
   "outputs": [
    {
     "data": {
      "text/plain": [
       "count     6738.000000\n",
       "mean     12522.391066\n",
       "std       6345.017587\n",
       "min        850.000000\n",
       "25%       8290.000000\n",
       "50%      10795.000000\n",
       "75%      14995.000000\n",
       "max      59995.000000\n",
       "Name: price, dtype: float64"
      ]
     },
     "execution_count": 8,
     "metadata": {},
     "output_type": "execute_result"
    }
   ],
   "source": [
    "data['price'].describe()"
   ]
  },
  {
   "cell_type": "markdown",
   "id": "81ffd590",
   "metadata": {},
   "source": [
    "**transmission** Character, one of \"Manual\", \"Automatic\", \"Semi-Auto\" or \"Other\"\n",
    "\n",
    "This is correct:"
   ]
  },
  {
   "cell_type": "code",
   "execution_count": 9,
   "id": "d3dccb5b",
   "metadata": {},
   "outputs": [
    {
     "data": {
      "text/plain": [
       "array(['Manual', 'Automatic', 'Semi-Auto', 'Other'], dtype=object)"
      ]
     },
     "execution_count": 9,
     "metadata": {},
     "output_type": "execute_result"
    }
   ],
   "source": [
    "data['transmission'].unique()"
   ]
  },
  {
   "cell_type": "markdown",
   "id": "24f67c9a",
   "metadata": {},
   "source": [
    "**mileage** Numeric, listed mileage of the car at time of sale\n",
    "\n",
    "Mileage is from 2 to 174,419:"
   ]
  },
  {
   "cell_type": "code",
   "execution_count": 10,
   "id": "82a4a49b",
   "metadata": {},
   "outputs": [
    {
     "data": {
      "text/plain": [
       "count      6738.000000\n",
       "mean      22857.413921\n",
       "std       19125.464147\n",
       "min           2.000000\n",
       "25%        9446.000000\n",
       "50%       18513.000000\n",
       "75%       31063.750000\n",
       "max      174419.000000\n",
       "Name: mileage, dtype: float64"
      ]
     },
     "execution_count": 10,
     "metadata": {},
     "output_type": "execute_result"
    }
   ],
   "source": [
    "data['mileage'].describe()"
   ]
  },
  {
   "cell_type": "markdown",
   "id": "1034f62f",
   "metadata": {},
   "source": [
    "**fuelType** Character, one of \"Petrol\", \"Hybrid\", \"Diesel\" or \"Other\"\n",
    "\n",
    "This is correct:"
   ]
  },
  {
   "cell_type": "code",
   "execution_count": 11,
   "id": "88ee43ac",
   "metadata": {},
   "outputs": [
    {
     "data": {
      "text/plain": [
       "array(['Petrol', 'Other', 'Hybrid', 'Diesel'], dtype=object)"
      ]
     },
     "execution_count": 11,
     "metadata": {},
     "output_type": "execute_result"
    }
   ],
   "source": [
    "data['fuelType'].unique()"
   ]
  },
  {
   "cell_type": "markdown",
   "id": "13e2be81",
   "metadata": {},
   "source": [
    "**tax** Numeric, road tax in GBP. Calculated based on CO2 emissions or a fixed price depending on the age of the car.\n",
    "\n",
    "Road tax is from 0 to 565 GBP:"
   ]
  },
  {
   "cell_type": "code",
   "execution_count": 13,
   "id": "a3aa40ee",
   "metadata": {},
   "outputs": [
    {
     "data": {
      "text/plain": [
       "count    6738.000000\n",
       "mean       94.697240\n",
       "std        73.880776\n",
       "min         0.000000\n",
       "25%         0.000000\n",
       "50%       135.000000\n",
       "75%       145.000000\n",
       "max       565.000000\n",
       "Name: tax, dtype: float64"
      ]
     },
     "execution_count": 13,
     "metadata": {},
     "output_type": "execute_result"
    }
   ],
   "source": [
    "data['tax'].describe()"
   ]
  },
  {
   "cell_type": "markdown",
   "id": "55901efc",
   "metadata": {},
   "source": [
    "**mpg** Numeric, miles per gallon as reported by manufacturer\n",
    "\n",
    "Miles per gallon are from 2.8 to 235:"
   ]
  },
  {
   "cell_type": "code",
   "execution_count": 14,
   "id": "6b79ca99",
   "metadata": {},
   "outputs": [
    {
     "data": {
      "text/plain": [
       "count    6738.000000\n",
       "mean       63.042223\n",
       "std        15.836710\n",
       "min         2.800000\n",
       "25%        55.400000\n",
       "50%        62.800000\n",
       "75%        69.000000\n",
       "max       235.000000\n",
       "Name: mpg, dtype: float64"
      ]
     },
     "execution_count": 14,
     "metadata": {},
     "output_type": "execute_result"
    }
   ],
   "source": [
    "data['mpg'].describe()"
   ]
  },
  {
   "cell_type": "markdown",
   "id": "72aad303",
   "metadata": {},
   "source": [
    "**engineSize** Numeric, listed engine size, one of 16 possible values\n",
    "\n",
    "Indeed, we have 16 unique values:"
   ]
  },
  {
   "cell_type": "code",
   "execution_count": 17,
   "id": "f0f289f3",
   "metadata": {},
   "outputs": [
    {
     "name": "stdout",
     "output_type": "stream",
     "text": [
      "Unique sizes #: 16\n"
     ]
    },
    {
     "data": {
      "text/plain": [
       "array([2. , 1.8, 1.2, 1.6, 1.4, 2.5, 2.2, 1.5, 1. , 1.3, 0. , 2.4, 3. ,\n",
       "       2.8, 4.2, 4.5])"
      ]
     },
     "execution_count": 17,
     "metadata": {},
     "output_type": "execute_result"
    }
   ],
   "source": [
    "print(\"Unique sizes #: \" + str(len(data['engineSize'].unique())))\n",
    "data['engineSize'].unique()"
   ]
  },
  {
   "cell_type": "markdown",
   "id": "4639578f",
   "metadata": {},
   "source": [
    "Hovewer, one of the unique values is zero. Let's explore which cars have engine size listed as 0:"
   ]
  },
  {
   "cell_type": "code",
   "execution_count": 18,
   "id": "2fcd6625",
   "metadata": {},
   "outputs": [
    {
     "data": {
      "text/html": [
       "<div>\n",
       "<style scoped>\n",
       "    .dataframe tbody tr th:only-of-type {\n",
       "        vertical-align: middle;\n",
       "    }\n",
       "\n",
       "    .dataframe tbody tr th {\n",
       "        vertical-align: top;\n",
       "    }\n",
       "\n",
       "    .dataframe thead th {\n",
       "        text-align: right;\n",
       "    }\n",
       "</style>\n",
       "<table border=\"1\" class=\"dataframe\">\n",
       "  <thead>\n",
       "    <tr style=\"text-align: right;\">\n",
       "      <th></th>\n",
       "      <th>model</th>\n",
       "      <th>year</th>\n",
       "      <th>price</th>\n",
       "      <th>transmission</th>\n",
       "      <th>mileage</th>\n",
       "      <th>fuelType</th>\n",
       "      <th>tax</th>\n",
       "      <th>mpg</th>\n",
       "      <th>engineSize</th>\n",
       "    </tr>\n",
       "  </thead>\n",
       "  <tbody>\n",
       "    <tr>\n",
       "      <th>2535</th>\n",
       "      <td>Yaris</td>\n",
       "      <td>2016</td>\n",
       "      <td>12300</td>\n",
       "      <td>Manual</td>\n",
       "      <td>6148</td>\n",
       "      <td>Hybrid</td>\n",
       "      <td>0</td>\n",
       "      <td>86.0</td>\n",
       "      <td>0.0</td>\n",
       "    </tr>\n",
       "    <tr>\n",
       "      <th>2545</th>\n",
       "      <td>Yaris</td>\n",
       "      <td>2016</td>\n",
       "      <td>11000</td>\n",
       "      <td>Automatic</td>\n",
       "      <td>39909</td>\n",
       "      <td>Hybrid</td>\n",
       "      <td>0</td>\n",
       "      <td>86.0</td>\n",
       "      <td>0.0</td>\n",
       "    </tr>\n",
       "    <tr>\n",
       "      <th>5126</th>\n",
       "      <td>Aygo</td>\n",
       "      <td>2019</td>\n",
       "      <td>9800</td>\n",
       "      <td>Manual</td>\n",
       "      <td>3635</td>\n",
       "      <td>Petrol</td>\n",
       "      <td>150</td>\n",
       "      <td>56.5</td>\n",
       "      <td>0.0</td>\n",
       "    </tr>\n",
       "    <tr>\n",
       "      <th>5233</th>\n",
       "      <td>Aygo</td>\n",
       "      <td>2019</td>\n",
       "      <td>8000</td>\n",
       "      <td>Manual</td>\n",
       "      <td>8531</td>\n",
       "      <td>Petrol</td>\n",
       "      <td>145</td>\n",
       "      <td>56.5</td>\n",
       "      <td>0.0</td>\n",
       "    </tr>\n",
       "    <tr>\n",
       "      <th>5257</th>\n",
       "      <td>Aygo</td>\n",
       "      <td>2019</td>\n",
       "      <td>8000</td>\n",
       "      <td>Manual</td>\n",
       "      <td>5354</td>\n",
       "      <td>Petrol</td>\n",
       "      <td>145</td>\n",
       "      <td>56.5</td>\n",
       "      <td>0.0</td>\n",
       "    </tr>\n",
       "    <tr>\n",
       "      <th>5960</th>\n",
       "      <td>C-HR</td>\n",
       "      <td>2017</td>\n",
       "      <td>14300</td>\n",
       "      <td>Manual</td>\n",
       "      <td>46571</td>\n",
       "      <td>Petrol</td>\n",
       "      <td>145</td>\n",
       "      <td>47.1</td>\n",
       "      <td>0.0</td>\n",
       "    </tr>\n",
       "  </tbody>\n",
       "</table>\n",
       "</div>"
      ],
      "text/plain": [
       "       model  year  price transmission  mileage fuelType  tax   mpg  \\\n",
       "2535   Yaris  2016  12300       Manual     6148   Hybrid    0  86.0   \n",
       "2545   Yaris  2016  11000    Automatic    39909   Hybrid    0  86.0   \n",
       "5126    Aygo  2019   9800       Manual     3635   Petrol  150  56.5   \n",
       "5233    Aygo  2019   8000       Manual     8531   Petrol  145  56.5   \n",
       "5257    Aygo  2019   8000       Manual     5354   Petrol  145  56.5   \n",
       "5960    C-HR  2017  14300       Manual    46571   Petrol  145  47.1   \n",
       "\n",
       "      engineSize  \n",
       "2535         0.0  \n",
       "2545         0.0  \n",
       "5126         0.0  \n",
       "5233         0.0  \n",
       "5257         0.0  \n",
       "5960         0.0  "
      ]
     },
     "execution_count": 18,
     "metadata": {},
     "output_type": "execute_result"
    }
   ],
   "source": [
    "data[data['engineSize'] == 0]"
   ]
  },
  {
   "cell_type": "markdown",
   "id": "e213f7e4",
   "metadata": {},
   "source": [
    "Since engine size can't be zero, let's substitute zeros with the most common engine size for given model and fuel type:"
   ]
  },
  {
   "cell_type": "code",
   "execution_count": 19,
   "id": "af1fdba7",
   "metadata": {},
   "outputs": [
    {
     "name": "stdout",
     "output_type": "stream",
     "text": [
      "Unique sizes #: 15\n"
     ]
    },
    {
     "data": {
      "text/plain": [
       "array([2. , 1.8, 1.2, 1.6, 1.4, 2.5, 2.2, 1.5, 1. , 1.3, 2.4, 3. , 2.8,\n",
       "       4.2, 4.5])"
      ]
     },
     "execution_count": 19,
     "metadata": {},
     "output_type": "execute_result"
    }
   ],
   "source": [
    "for index in data[data['engineSize'] == 0].index:\n",
    "    data.loc[index, 'engineSize'] = data[(data['model'] == data.loc[index, 'model']) & \\\n",
    "                    (data['fuelType'] == data.loc[index, 'fuelType'])]['engineSize'].mode().values[0]\n",
    "    \n",
    "print(\"Unique sizes #: \" + str(len(data['engineSize'].unique())))\n",
    "data['engineSize'].unique()"
   ]
  },
  {
   "cell_type": "markdown",
   "id": "35284825",
   "metadata": {},
   "source": [
    "## Exploratory Analysis"
   ]
  },
  {
   "cell_type": "code",
   "execution_count": null,
   "id": "040560d9",
   "metadata": {},
   "outputs": [],
   "source": []
  }
 ],
 "metadata": {
  "kernelspec": {
   "display_name": "Python 3 (ipykernel)",
   "language": "python",
   "name": "python3"
  },
  "language_info": {
   "codemirror_mode": {
    "name": "ipython",
    "version": 3
   },
   "file_extension": ".py",
   "mimetype": "text/x-python",
   "name": "python",
   "nbconvert_exporter": "python",
   "pygments_lexer": "ipython3",
   "version": "3.10.9"
  }
 },
 "nbformat": 4,
 "nbformat_minor": 5
}
